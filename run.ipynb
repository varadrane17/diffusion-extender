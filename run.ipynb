{
 "cells": [
  {
   "cell_type": "code",
   "execution_count": 2,
   "metadata": {},
   "outputs": [],
   "source": [
    "import os \n",
    "import sys\n",
    "\n",
    "from src.pipeline_fill_sd_xl import StableDiffusionXLFillPipeline\n",
    "from src.controlnet_union import ControlNetModel_Union\n",
    "from PIL import Image, ImageDraw\n",
    "import numpy as np\n",
    "import torch\n",
    "from diffusers import AutoencoderKL, TCDScheduler\n",
    "from diffusers.models.model_loading_utils import load_state_dict\n",
    "from gradio_imageslider import ImageSlider\n",
    "from huggingface_hub import hf_hub_download\n"
   ]
  },
  {
   "cell_type": "code",
   "execution_count": null,
   "metadata": {},
   "outputs": [],
   "source": [
    "config_file = hf_hub_download(\n",
    "    \"xinsir/controlnet-union-sdxl-1.0\",\n",
    "    filename=\"config_promax.json\",\n",
    ")\n",
    "\n",
    "config = ControlNetModel_Union.load_config(config_file)\n",
    "controlnet_model = ControlNetModel_Union.from_config(config)\n",
    "model_file = hf_hub_download(\n",
    "    \"xinsir/controlnet-union-sdxl-1.0\",\n",
    "    filename=\"diffusion_pytorch_model_promax.safetensors\",\n",
    ")\n",
    "state_dict = load_state_dict(model_file)\n",
    "model, _, _, _, _ = ControlNetModel_Union._load_pretrained_model(\n",
    "    controlnet_model, state_dict, model_file, \"xinsir/controlnet-union-sdxl-1.0\"\n",
    ")\n",
    "model.to(device=\"cuda\", dtype=torch.float16)\n"
   ]
  },
  {
   "cell_type": "code",
   "execution_count": null,
   "metadata": {},
   "outputs": [],
   "source": [
    "\n",
    "vae = AutoencoderKL.from_pretrained(\n",
    "    \"madebyollin/sdxl-vae-fp16-fix\", torch_dtype=torch.float16\n",
    ").to(\"cuda\")\n",
    "\n",
    "pipe = StableDiffusionXLFillPipeline.from_pretrained(\n",
    "    \"SG161222/RealVisXL_V5.0_Lightning\",\n",
    "    torch_dtype=torch.float16,\n",
    "    vae=vae,\n",
    "    controlnet=model,\n",
    "    variant=\"fp16\",\n",
    ").to(\"cuda\")\n",
    "\n",
    "pipe.scheduler = TCDScheduler.from_config(pipe.scheduler.config)"
   ]
  }
 ],
 "metadata": {
  "kernelspec": {
   "display_name": "Python 3",
   "language": "python",
   "name": "python3"
  },
  "language_info": {
   "codemirror_mode": {
    "name": "ipython",
    "version": 3
   },
   "file_extension": ".py",
   "mimetype": "text/x-python",
   "name": "python",
   "nbconvert_exporter": "python",
   "pygments_lexer": "ipython3",
   "version": "3.9.6"
  }
 },
 "nbformat": 4,
 "nbformat_minor": 2
}
